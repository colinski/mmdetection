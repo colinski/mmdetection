{
 "cells": [
  {
   "cell_type": "code",
   "execution_count": 1,
   "id": "4fd27b00-3fa8-493c-9cc1-3ba44aa6490b",
   "metadata": {},
   "outputs": [],
   "source": [
    "import numpy as np\n",
    "import torch\n",
    "import matplotlib.pyplot as plt\n",
    "import glob\n",
    "import cv2\n",
    "import mmdet\n",
    "from mmdet.apis import init_detector, inference_detector\n",
    "from mmdet.datasets import replace_ImageToTensor, build_dataset, build_dataloader\n",
    "from mmdet.datasets.pipelines import Compose\n",
    "from mmdet.core import bbox_cxcywh_to_xyxy, bbox_xyxy_to_cxcywh, bbox_xyxy_to_cxcywh\n",
    "from tqdm import tqdm\n",
    "import pickle\n",
    "from mmdet.core.bbox.iou_calculators.iou2d_calculator import BboxOverlaps2D\n",
    "import lap\n",
    "plt.rcParams['figure.dpi'] = 100"
   ]
  },
  {
   "cell_type": "code",
   "execution_count": 2,
   "id": "47f85abb-3f31-45ab-aa7a-942ed101e39a",
   "metadata": {},
   "outputs": [],
   "source": [
    "with open('base_detr_output.pkl', 'rb') as f:\n",
    "    data = pickle.load(f)"
   ]
  },
  {
   "cell_type": "code",
   "execution_count": 3,
   "id": "9646debf-e033-4cf1-b1fc-0b9aec8913fe",
   "metadata": {},
   "outputs": [],
   "source": [
    "def linear_assignment(cost_matrix):\n",
    "    _, x, y = lap.lapjv(cost_matrix, extend_cost=True)\n",
    "    matches = np.array([[y[i], i] for i in x if i >= 0])\n",
    "    sort_idx = np.argsort(matches[:, 1])\n",
    "    matches = matches[sort_idx]\n",
    "    matches = torch.from_numpy(matches).long()\n",
    "    return matches"
   ]
  },
  {
   "cell_type": "code",
   "execution_count": 4,
   "id": "ac71b81b-e15e-41b2-8bdc-0f19276f3edf",
   "metadata": {},
   "outputs": [
    {
     "name": "stdout",
     "output_type": "stream",
     "text": [
      "torch.Size([495200, 81]) torch.Size([495200])\n"
     ]
    }
   ],
   "source": [
    "all_probs, all_labels = [], []\n",
    "\n",
    "for sample in data:\n",
    "    gt_bboxes = torch.from_numpy(sample['gt_bboxes'])\n",
    "    gt_labels = torch.from_numpy(sample['gt_labels']).long()    \n",
    "    probs = torch.from_numpy(sample['cls_probs'])[-1]\n",
    "    \n",
    "    #scale and convert bbox preds to match gt format\n",
    "    H, W, _ = sample['ori_shape']\n",
    "    factor = torch.tensor([W, H, W, H]).unsqueeze(0)\n",
    "    bbox_preds = torch.from_numpy(sample['bbox_preds'][-1]) \n",
    "    bbox_preds = bbox_cxcywh_to_xyxy(bbox_preds) * factor\n",
    "    \n",
    "    #compute pairwise iou between all predictions and gt\n",
    "    #matrix has shape N_preds x N_gt (for detr, N_preds == 100)\n",
    "    ious = BboxOverlaps2D()(bbox_preds, gt_bboxes)\n",
    "    \n",
    "    #set iou to 0 for all boxes predicted as background (optional?)\n",
    "    #bg_mask = probs[:, -1] >= 0.5 \n",
    "    #ious[bg_mask] = 0\n",
    "    \n",
    "    #run min cost assignment algo using negative iou \n",
    "    #matrix has shape N_gt x 2\n",
    "    matches = linear_assignment(-ious.numpy())\n",
    "    \n",
    "    #all gt boxes should be matched to something (could be background)\n",
    "    assert len(matches) == len(gt_bboxes)\n",
    "    \n",
    "    #convert full label targets\n",
    "    #most predictions are unmatched and are therefore background\n",
    "    label_targets = torch.ones(len(bbox_preds)).long() * 80 #background\n",
    "    label_targets[matches[:, 0]] = gt_labels #gt_labels for matched predictions\n",
    "    \n",
    "    #save all probs and assigned labels\n",
    "    all_probs.append(probs)\n",
    "    all_labels.append(label_targets)\n",
    "\n",
    "    \n",
    "all_probs = torch.cat(all_probs)\n",
    "all_labels = torch.cat(all_labels)\n",
    "print(all_probs.shape, all_labels.shape)"
   ]
  },
  {
   "cell_type": "code",
   "execution_count": 5,
   "id": "86f16372-d41f-42ca-bc78-b90fd277de0a",
   "metadata": {},
   "outputs": [],
   "source": [
    "#extract probability predicted for correct class\n",
    "corr_probs = torch.tensor([all_probs[i, lt] for i, lt in enumerate(all_labels)])\n",
    "\n",
    "#mask of locations assigned to background\n",
    "is_bg = all_labels == 80 "
   ]
  },
  {
   "cell_type": "markdown",
   "id": "bfdbbcd6-f41b-4cbb-a855-282b3fa39335",
   "metadata": {
    "tags": []
   },
   "source": [
    "### Across all boxes assigned to non-background, what is the classification accuracy?"
   ]
  },
  {
   "cell_type": "code",
   "execution_count": 6,
   "id": "54b7f794-af9b-4945-be8e-5c198d1e4162",
   "metadata": {},
   "outputs": [
    {
     "data": {
      "text/plain": [
       "0.573072075843811"
      ]
     },
     "execution_count": 6,
     "metadata": {},
     "output_type": "execute_result"
    }
   ],
   "source": [
    "vals, idx = all_probs[~is_bg].max(dim=-1)\n",
    "(idx == all_labels[~is_bg]).float().mean().item()"
   ]
  },
  {
   "cell_type": "markdown",
   "id": "5cec9a1c-a57b-4eec-90c8-6dddcafa82f6",
   "metadata": {
    "tags": []
   },
   "source": [
    "### Across all boxes assigned to background, what is the classification accuracy?"
   ]
  },
  {
   "cell_type": "code",
   "execution_count": 7,
   "id": "4c862817-e597-43f3-9aa5-7b201e666d5e",
   "metadata": {},
   "outputs": [
    {
     "data": {
      "text/plain": [
       "0.9013088941574097"
      ]
     },
     "execution_count": 7,
     "metadata": {},
     "output_type": "execute_result"
    }
   ],
   "source": [
    "vals, idx = all_probs[is_bg].max(dim=-1)\n",
    "(idx == all_labels[is_bg]).float().mean().item()"
   ]
  },
  {
   "cell_type": "markdown",
   "id": "eb6ec7a7-8390-454c-a825-746b814f70da",
   "metadata": {
    "tags": []
   },
   "source": [
    "### Across all boxes, what is the classification accuracy?"
   ]
  },
  {
   "cell_type": "code",
   "execution_count": 8,
   "id": "f1ad47c8-2546-4012-84a8-ed64ee8ce03a",
   "metadata": {},
   "outputs": [
    {
     "data": {
      "text/plain": [
       "0.8772253394126892"
      ]
     },
     "execution_count": 8,
     "metadata": {},
     "output_type": "execute_result"
    }
   ],
   "source": [
    "vals, idx = all_probs.max(dim=-1)\n",
    "(idx == all_labels).float().mean().item()"
   ]
  },
  {
   "cell_type": "markdown",
   "id": "556790ab-c5fd-4731-88d9-21ffc1c78e88",
   "metadata": {
    "tags": []
   },
   "source": [
    "### Of all the boxes assigned to non-background, what precent predict background with the highest probability?"
   ]
  },
  {
   "cell_type": "code",
   "execution_count": 9,
   "id": "2f15fa71-9900-4cde-b80e-ef5d6f0f97b3",
   "metadata": {},
   "outputs": [
    {
     "data": {
      "text/plain": [
       "0.38492870330810547"
      ]
     },
     "execution_count": 9,
     "metadata": {},
     "output_type": "execute_result"
    }
   ],
   "source": [
    "vals, idx = all_probs[~is_bg].max(dim=-1)\n",
    "(idx == 80).float().mean().item()"
   ]
  },
  {
   "cell_type": "markdown",
   "id": "6b780cfb-7959-45c5-b557-d248f25b8284",
   "metadata": {
    "tags": []
   },
   "source": [
    "### Of all the boxes assigned to background, what precent predict background with the highest probability?"
   ]
  },
  {
   "cell_type": "code",
   "execution_count": 10,
   "id": "e05dcc57-4eb1-4eb9-856f-8e3075cc135f",
   "metadata": {},
   "outputs": [
    {
     "data": {
      "text/plain": [
       "0.9013088941574097"
      ]
     },
     "execution_count": 10,
     "metadata": {},
     "output_type": "execute_result"
    }
   ],
   "source": [
    "vals, idx = all_probs[is_bg].max(dim=-1)\n",
    "(idx == 80).float().mean().item()"
   ]
  },
  {
   "cell_type": "markdown",
   "id": "07eb72af-584e-4720-92f0-51524ca455c0",
   "metadata": {
    "tags": []
   },
   "source": [
    "### For all boxes assigned to non-background, what is the histogram of the probability of the most likely class?"
   ]
  },
  {
   "cell_type": "code",
   "execution_count": 11,
   "id": "c2746348-6676-4782-8ab6-4ef011112d10",
   "metadata": {},
   "outputs": [
    {
     "data": {
      "image/png": "[encoded data removed]",
      "text/plain": [
       "<Figure size 600x400 with 1 Axes>"
      ]
     },
     "metadata": {
      "needs_background": "light"
     },
     "output_type": "display_data"
    }
   ],
   "source": [
    "vals, idx = all_probs[~is_bg].max(dim=-1)\n",
    "plt.hist(vals.numpy(), color='blue', bins=100, density=False);\n",
    "plt.xlabel('Predicted Probability');\n",
    "plt.ylabel('Count');"
   ]
  },
  {
   "cell_type": "markdown",
   "id": "030155dc-9232-4e68-8d46-c795cabe1b73",
   "metadata": {
    "tags": []
   },
   "source": [
    "### For all boxes assigned to non-background, what is the histogram of the probability of the correct class?"
   ]
  },
  {
   "cell_type": "code",
   "execution_count": 12,
   "id": "858c73ef-5054-41eb-ae5f-c514ec2a4433",
   "metadata": {},
   "outputs": [
    {
     "data": {
      "image/png": "[encoded data removed]",
      "text/plain": [
       "<Figure size 600x400 with 1 Axes>"
      ]
     },
     "metadata": {
      "needs_background": "light"
     },
     "output_type": "display_data"
    }
   ],
   "source": [
    "plt.hist(corr_probs[~is_bg].numpy(), color='blue', bins=100, density=False);\n",
    "plt.xlabel('Predicted Probability');\n",
    "plt.ylabel('Count');"
   ]
  },
  {
   "cell_type": "markdown",
   "id": "87730118-d3e2-4af3-90af-e3044d1fbe9e",
   "metadata": {
    "tags": []
   },
   "source": [
    "### For all boxes assigned to background, what is the histogram of the probability of the most likely class?"
   ]
  },
  {
   "cell_type": "code",
   "execution_count": 13,
   "id": "9f1ecd36-b69e-4caf-9b37-fde2bba32496",
   "metadata": {},
   "outputs": [
    {
     "data": {
      "image/png": "[encoded data removed]",
      "text/plain": [
       "<Figure size 600x400 with 1 Axes>"
      ]
     },
     "metadata": {
      "needs_background": "light"
     },
     "output_type": "display_data"
    }
   ],
   "source": [
    "vals, idx = all_probs[is_bg].max(dim=-1)\n",
    "plt.hist(vals.numpy(), color='blue', bins=100, density=False);\n",
    "plt.xlabel('Predicted Probability');\n",
    "plt.ylabel('Count');"
   ]
  },
  {
   "cell_type": "markdown",
   "id": "497ee424-a3b9-493f-a869-057b361d4e24",
   "metadata": {
    "tags": []
   },
   "source": [
    "### For all boxes assigned to background, what is the histogram of the probability of the correct class?"
   ]
  },
  {
   "cell_type": "code",
   "execution_count": 14,
   "id": "3e5f582c-973a-4ab8-847c-4b039ac6841e",
   "metadata": {},
   "outputs": [
    {
     "data": {
      "image/png": "[encoded data removed]",
      "text/plain": [
       "<Figure size 600x400 with 1 Axes>"
      ]
     },
     "metadata": {
      "needs_background": "light"
     },
     "output_type": "display_data"
    }
   ],
   "source": [
    "vals, idx = all_probs[is_bg].max(dim=-1)\n",
    "plt.hist(corr_probs[is_bg].numpy(), color='blue', bins=100, density=False);\n",
    "plt.xlabel('Predicted Probability');\n",
    "plt.ylabel('Count');"
   ]
  }
 ],
 "metadata": {
  "kernelspec": {
   "display_name": "Python 3 (ipykernel)",
   "language": "python",
   "name": "python3"
  },
  "language_info": {
   "codemirror_mode": {
    "name": "ipython",
    "version": 3
   },
   "file_extension": ".py",
   "mimetype": "text/x-python",
   "name": "python",
   "nbconvert_exporter": "python",
   "pygments_lexer": "ipython3",
   "version": "3.9.5"
  }
 },
 "nbformat": 4,
 "nbformat_minor": 5
}
