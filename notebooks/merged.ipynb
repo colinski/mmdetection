{
 "cells": [
  {
   "cell_type": "code",
   "execution_count": 72,
   "id": "4fd27b00-3fa8-493c-9cc1-3ba44aa6490b",
   "metadata": {},
   "outputs": [],
   "source": [
    "import numpy as np\n",
    "import torch\n",
    "import matplotlib.pyplot as plt\n",
    "import glob\n",
    "import cv2\n",
    "import mmdet\n",
    "from mmdet.apis import init_detector, inference_detector\n",
    "from mmdet.datasets import replace_ImageToTensor, build_dataset, build_dataloader\n",
    "from mmdet.datasets.pipelines import Compose\n",
    "from mmdet.core import bbox_cxcywh_to_xyxy, bbox_xyxy_to_cxcywh, bbox_xyxy_to_cxcywh\n",
    "from tqdm import tqdm\n",
    "import pickle\n",
    "from mmdet.core.bbox.iou_calculators.iou2d_calculator import BboxOverlaps2D\n",
    "import lap\n",
    "import json\n",
    "plt.rcParams['figure.dpi'] = 100"
   ]
  },
  {
   "cell_type": "code",
   "execution_count": 73,
   "id": "4ea7aec7-0d48-4bf7-b8d2-2433d0750a7c",
   "metadata": {},
   "outputs": [],
   "source": [
    "def _get_ece(preds, targets, n_bins=15):\n",
    "    \"\"\"\n",
    "    ECE ported from Asukha et al., 2020.\n",
    "    :param preds: Prediction probabilities in a Numpy array\n",
    "    :param targets: Targets in a numpy array\n",
    "    :param n_bins: Total number of bins to use.\n",
    "    :return: Expected calibration error.\n",
    "    \"\"\"\n",
    "    bin_boundaries = np.linspace(0, 1, n_bins + 1)\n",
    "    bin_lowers = bin_boundaries[:-1]\n",
    "    bin_uppers = bin_boundaries[1:]\n",
    "\n",
    "    confidences, predictions = np.max(preds, 1), np.argmax(preds, 1)\n",
    "    accuracies = (predictions == targets)\n",
    "\n",
    "    ece = 0.0\n",
    "    avg_confs_in_bins = []\n",
    "    for bin_lower, bin_upper in zip(bin_lowers, bin_uppers):\n",
    "        in_bin = np.logical_and(confidences > bin_lower, confidences <= bin_upper)\n",
    "        prop_in_bin = np.mean(in_bin)\n",
    "        if prop_in_bin > 0:\n",
    "            accuracy_in_bin = np.mean(accuracies[in_bin])\n",
    "            avg_confidence_in_bin = np.mean(confidences[in_bin])\n",
    "            delta = avg_confidence_in_bin - accuracy_in_bin\n",
    "            avg_confs_in_bins.append(delta)\n",
    "            ece += np.abs(delta) * prop_in_bin\n",
    "        else:\n",
    "            avg_confs_in_bins.append(None)\n",
    "    # For reliability diagrams, also need to return these:\n",
    "    # return ece, bin_lowers, avg_confs_in_bins\n",
    "    return ece"
   ]
  },
  {
   "cell_type": "code",
   "execution_count": 74,
   "id": "9646debf-e033-4cf1-b1fc-0b9aec8913fe",
   "metadata": {},
   "outputs": [],
   "source": [
    "def linear_assignment(cost_matrix):\n",
    "    _, x, y = lap.lapjv(cost_matrix, extend_cost=True)\n",
    "    matches = np.array([[y[i], i] for i in x if i >= 0])\n",
    "    sort_idx = np.argsort(matches[:, 1])\n",
    "    matches = matches[sort_idx]\n",
    "    matches = torch.from_numpy(matches).long()\n",
    "    return matches"
   ]
  },
  {
   "cell_type": "code",
   "execution_count": 133,
   "id": "960e1a00-de74-4606-97fd-cb8251ee886b",
   "metadata": {},
   "outputs": [],
   "source": [
    "with open('../../logs/detr_r50_4x16_decoder_and_output/merged_outputs_075.json') as f:\n",
    "    merged_outputs = json.load(f)\n",
    "    \n",
    "with open('../../logs/detr_r50_4x16_decoder_and_output/output_model_1.pkl', 'rb') as f:\n",
    "    model_output = pickle.load(f)\n",
    "    \n",
    "\n",
    "fnames = [o['ori_filename'] for o in model_output]"
   ]
  },
  {
   "cell_type": "code",
   "execution_count": 155,
   "id": "ac71b81b-e15e-41b2-8bdc-0f19276f3edf",
   "metadata": {},
   "outputs": [
    {
     "name": "stdout",
     "output_type": "stream",
     "text": [
      "torch.Size([68017, 81]) torch.Size([68017])\n"
     ]
    },
    {
     "data": {
      "text/plain": [
       "(10036, 29)"
      ]
     },
     "execution_count": 155,
     "metadata": {},
     "output_type": "execute_result"
    }
   ],
   "source": [
    "all_probs, all_labels = [], []\n",
    "count_unmatched = 0\n",
    "count_no_preds = 0\n",
    "total_gt_bboxes = 0\n",
    "unmatched_gt_boxes = []\n",
    "IOU_THRESHOLD = 0.5\n",
    "\n",
    "for sample in model_output:\n",
    "    fname = sample['ori_filename']\n",
    "    gt_bboxes = torch.from_numpy(sample['gt_bboxes'])\n",
    "    gt_labels = torch.from_numpy(sample['gt_labels']).long()    \n",
    "    \n",
    "    total_gt_bboxes += len(gt_labels)\n",
    "    \n",
    "    if merged_outputs[fname] == []:\n",
    "        count_no_preds += 1\n",
    "        all_labels.append(gt_labels)\n",
    "        all_probs.append(torch.ones(len(gt_labels), 81)/81.)\n",
    "        continue\n",
    "    \n",
    "    preds = merged_outputs[fname][0]\n",
    "    preds = torch.tensor(preds)\n",
    "    if len(preds) == 0:\n",
    "        count_no_preds += 1\n",
    "        #print(preds, fname, len(gt_labels))\n",
    "        all_labels.append(gt_labels)\n",
    "        all_probs.append(torch.ones(len(gt_labels), 81)/81.)\n",
    "        continue\n",
    "    probs = preds[:, 0:80]\n",
    "    sums = probs.sum(dim=-1).unsqueeze(-1)\n",
    "    bg_probs = torch.ones_like(sums) - sums\n",
    "    probs = torch.cat([probs, bg_probs], dim=-1)\n",
    "    is_bg = (torch.argmax(probs, dim=-1) == (probs.shape[1] - 1))\n",
    "    max_probs, _ = probs.max(-1)\n",
    "    is_conf = max_probs >= 0.\n",
    "    mask = ~is_bg & is_conf\n",
    "    probs = probs[mask]\n",
    "    \n",
    "    bbox_preds = preds[:, -5:-1]\n",
    "    bbox_preds = bbox_preds[mask]\n",
    "    \n",
    "    if len(bbox_preds) == 0:\n",
    "        count_no_preds += 1\n",
    "        all_labels.append(gt_labels)\n",
    "        all_probs.append(torch.ones(len(gt_labels), 81)/81.)\n",
    "        continue\n",
    "        \n",
    "    #scale and convert bbox preds to match gt format\n",
    "    #H, W, _ = sample['ori_shape']\n",
    "    #factor = torch.tensor([W, H, W, H]).unsqueeze(0)\n",
    "    #bbox_preds = torch.from_numpy(sample['bbox_preds'][-1]) \n",
    "    #bbox_preds = bbox_cxcywh_to_xyxy(bbox_preds) * factor\n",
    "    \n",
    "    #compute pairwise iou between all predictions and gt\n",
    "    #matrix has shape N_preds x N_gt (for detr, N_preds == 100)\n",
    "    ious = BboxOverlaps2D()(bbox_preds, gt_bboxes)\n",
    "    \n",
    "    #set iou to 0 for all boxes predicted as background (optional?)\n",
    "    #bg_mask = probs[:, -1] >= 0.5 \n",
    "    #ious[bg_mask] = 0\n",
    "    \n",
    "    #run min cost assignment algo using negative iou \n",
    "    #matrix has shape N_gt x 2\n",
    "    matches = linear_assignment(1-ious.numpy())\n",
    "    sel_indices = ious.numpy()[matches.numpy()[:, 0], matches.numpy()[:, 1]] >= IOU_THRESHOLD\n",
    "    matches = matches[sel_indices]\n",
    "    \n",
    "    \n",
    "    if len(matches) == 0:\n",
    "        count_no_preds += 1\n",
    "        all_labels.append(gt_labels)\n",
    "        all_probs.append(torch.ones(len(gt_labels), 81)/81.)\n",
    "        count_unmatched += len(gt_labels)\n",
    "        continue\n",
    "    \n",
    "    #all gt boxes should be matched to something (could be background)\n",
    "    if len(matches) != len(gt_bboxes):\n",
    "        count_unmatched += len(gt_bboxes) - len(matches)\n",
    "        matched_label_targets = torch.ones(len(matches)).long() * 80\n",
    "        matched_label_targets = gt_labels[matches[:, 1]]\n",
    "        all_probs.append(probs[matches[:, 0]])\n",
    "        all_labels.append(matched_label_targets)\n",
    "        unmatched_gt_indxs = np.setdiff1d(np.arange(len(gt_bboxes)), matches[:, 1])\n",
    "        if len(unmatched_gt_indxs) != 0:\n",
    "            all_labels.append(gt_labels[unmatched_gt_indxs])\n",
    "            all_probs.append(torch.ones(len(unmatched_gt_indxs), 81)/81.)\n",
    "        unmatched_pred_indxs = np.setdiff1d(np.arange(len(probs)), matches[:, 0])\n",
    "        if len(unmatched_pred_indxs) != 0:\n",
    "            all_labels.append(torch.ones(len(unmatched_pred_indxs)).long() * 80)\n",
    "            all_probs.append(probs[torch.from_numpy(unmatched_pred_indxs)])\n",
    "        continue\n",
    "        #print(len(matches), len(gt_bboxes), len(bbox_preds), len(gt_bboxes))\n",
    "    \n",
    "    #convert full label targets\n",
    "    #most predictions are unmatched and are therefore background\n",
    "    label_targets = torch.ones(len(bbox_preds)).long() * 80 #background\n",
    "    label_targets[matches[:, 0]] = gt_labels #gt_labels for matched predictions\n",
    "    \n",
    "    #save all probs and assigned labels\n",
    "    all_probs.append(probs)\n",
    "    all_labels.append(label_targets)\n",
    "\n",
    "    \n",
    "all_probs = torch.cat(all_probs)\n",
    "all_labels = torch.cat(all_labels)\n",
    "print(all_probs.shape, all_labels.shape)\n",
    "count_unmatched, count_no_preds"
   ]
  },
  {
   "cell_type": "code",
   "execution_count": 156,
   "id": "430c4351-1496-4bc5-b148-52d872b24e6b",
   "metadata": {},
   "outputs": [],
   "source": [
    "def get_nll(probs, labels):\n",
    "    nll_vals = []\n",
    "    for i in range(len(probs)):\n",
    "        p = probs[i]\n",
    "        l = labels[i]\n",
    "        nll_vals.append(-torch.log(p[l]))\n",
    "    nll_vals = torch.tensor(nll_vals)\n",
    "    return nll_vals.mean().item()\n",
    "\n",
    "def get_acc(probs, labels):\n",
    "    _, max_idx = probs.max(-1)\n",
    "    acc = (max_idx == labels).float().mean()\n",
    "    return acc.item()"
   ]
  },
  {
   "cell_type": "code",
   "execution_count": 157,
   "id": "ca38cbde-8cf1-44a8-b6ab-6b220ac802bb",
   "metadata": {},
   "outputs": [
    {
     "data": {
      "text/plain": [
       "(0.09950585534629305, 1.4233455657958984, 0.7421973943710327)"
      ]
     },
     "execution_count": 157,
     "metadata": {},
     "output_type": "execute_result"
    }
   ],
   "source": [
    "is_bg = all_labels == 80 \n",
    "ece = _get_ece(all_probs[~is_bg].numpy(), all_labels[~is_bg].numpy())\n",
    "nll = get_nll(all_probs[~is_bg], all_labels[~is_bg])\n",
    "acc = get_acc(all_probs[~is_bg], all_labels[~is_bg])\n",
    "\n",
    "ece, nll, acc"
   ]
  },
  {
   "cell_type": "code",
   "execution_count": 158,
   "id": "1c11c941-0be8-4492-944a-50aa6db31529",
   "metadata": {},
   "outputs": [
    {
     "data": {
      "text/plain": [
       "(0.7133202520888875, 1.6050381660461426, 0.0)"
      ]
     },
     "execution_count": 158,
     "metadata": {},
     "output_type": "execute_result"
    }
   ],
   "source": [
    "ece = _get_ece(all_probs[is_bg].numpy(), all_labels[is_bg].numpy())\n",
    "nll = get_nll(all_probs[is_bg], all_labels[is_bg])\n",
    "acc = get_acc(all_probs[is_bg], all_labels[is_bg])\n",
    "\n",
    "ece, nll, acc"
   ]
  },
  {
   "cell_type": "code",
   "execution_count": 159,
   "id": "f0426a6b-4a45-43a4-b072-ffc3b5440602",
   "metadata": {},
   "outputs": [
    {
     "data": {
      "text/plain": [
       "(0.3337526349628904, 1.5079797506332397, 0.3964744210243225)"
      ]
     },
     "execution_count": 159,
     "metadata": {},
     "output_type": "execute_result"
    }
   ],
   "source": [
    "ece = _get_ece(all_probs.numpy(), all_labels.numpy())\n",
    "nll = get_nll(all_probs, all_labels)\n",
    "acc = get_acc(all_probs, all_labels)\n",
    "\n",
    "ece, nll, acc"
   ]
  },
  {
   "cell_type": "code",
   "execution_count": 160,
   "id": "86f16372-d41f-42ca-bc78-b90fd277de0a",
   "metadata": {},
   "outputs": [],
   "source": [
    "#extract probability predicted for correct class\n",
    "corr_probs = torch.tensor([all_probs[i, lt] for i, lt in enumerate(all_labels)])\n",
    "\n",
    "#mask of locations assigned to background\n",
    "is_bg = all_labels == 80 "
   ]
  },
  {
   "cell_type": "markdown",
   "id": "bfdbbcd6-f41b-4cbb-a855-282b3fa39335",
   "metadata": {
    "tags": []
   },
   "source": [
    "### Across all boxes assigned to non-background, what is the classification accuracy?"
   ]
  },
  {
   "cell_type": "code",
   "execution_count": 86,
   "id": "54b7f794-af9b-4945-be8e-5c198d1e4162",
   "metadata": {},
   "outputs": [
    {
     "data": {
      "text/plain": [
       "0.8504189848899841"
      ]
     },
     "execution_count": 86,
     "metadata": {},
     "output_type": "execute_result"
    }
   ],
   "source": [
    "vals, idx = all_probs[~is_bg].max(dim=-1)\n",
    "(idx == all_labels[~is_bg]).float().mean().item()"
   ]
  },
  {
   "cell_type": "markdown",
   "id": "5cec9a1c-a57b-4eec-90c8-6dddcafa82f6",
   "metadata": {
    "tags": []
   },
   "source": [
    "### Across all boxes assigned to background, what is the classification accuracy?"
   ]
  },
  {
   "cell_type": "code",
   "execution_count": 87,
   "id": "4c862817-e597-43f3-9aa5-7b201e666d5e",
   "metadata": {},
   "outputs": [
    {
     "data": {
      "text/plain": [
       "0.05694636330008507"
      ]
     },
     "execution_count": 87,
     "metadata": {},
     "output_type": "execute_result"
    }
   ],
   "source": [
    "vals, idx = all_probs[is_bg].max(dim=-1)\n",
    "(idx == all_labels[is_bg]).float().mean().item()"
   ]
  },
  {
   "cell_type": "markdown",
   "id": "eb6ec7a7-8390-454c-a825-746b814f70da",
   "metadata": {
    "tags": []
   },
   "source": [
    "### Across all boxes, what is the classification accuracy?"
   ]
  },
  {
   "cell_type": "code",
   "execution_count": 88,
   "id": "f1ad47c8-2546-4012-84a8-ed64ee8ce03a",
   "metadata": {},
   "outputs": [
    {
     "data": {
      "text/plain": [
       "0.49373528361320496"
      ]
     },
     "execution_count": 88,
     "metadata": {},
     "output_type": "execute_result"
    }
   ],
   "source": [
    "vals, idx = all_probs.max(dim=-1)\n",
    "(idx == all_labels).float().mean().item()"
   ]
  },
  {
   "cell_type": "markdown",
   "id": "556790ab-c5fd-4731-88d9-21ffc1c78e88",
   "metadata": {
    "tags": []
   },
   "source": [
    "### Of all the boxes assigned to non-background, what precent predict background with the highest probability?"
   ]
  },
  {
   "cell_type": "code",
   "execution_count": 89,
   "id": "2f15fa71-9900-4cde-b80e-ef5d6f0f97b3",
   "metadata": {},
   "outputs": [
    {
     "data": {
      "text/plain": [
       "0.016164498403668404"
      ]
     },
     "execution_count": 89,
     "metadata": {},
     "output_type": "execute_result"
    }
   ],
   "source": [
    "vals, idx = all_probs[~is_bg].max(dim=-1)\n",
    "(idx == 80).float().mean().item()"
   ]
  },
  {
   "cell_type": "markdown",
   "id": "6b780cfb-7959-45c5-b557-d248f25b8284",
   "metadata": {
    "tags": []
   },
   "source": [
    "### Of all the boxes assigned to background, what precent predict background with the highest probability?"
   ]
  },
  {
   "cell_type": "code",
   "execution_count": 90,
   "id": "e05dcc57-4eb1-4eb9-856f-8e3075cc135f",
   "metadata": {},
   "outputs": [
    {
     "data": {
      "text/plain": [
       "0.05694636330008507"
      ]
     },
     "execution_count": 90,
     "metadata": {},
     "output_type": "execute_result"
    }
   ],
   "source": [
    "vals, idx = all_probs[is_bg].max(dim=-1)\n",
    "(idx == 80).float().mean().item()"
   ]
  },
  {
   "cell_type": "markdown",
   "id": "07eb72af-584e-4720-92f0-51524ca455c0",
   "metadata": {
    "tags": []
   },
   "source": [
    "### For all boxes assigned to non-background, what is the histogram of the probability of the most likely class?"
   ]
  },
  {
   "cell_type": "code",
   "execution_count": 91,
   "id": "c2746348-6676-4782-8ab6-4ef011112d10",
   "metadata": {},
   "outputs": [
    {
     "data": {
      "image/png": "[encoded data removed]",
      "text/plain": [
       "<Figure size 600x400 with 1 Axes>"
      ]
     },
     "metadata": {
      "needs_background": "light"
     },
     "output_type": "display_data"
    }
   ],
   "source": [
    "vals, idx = all_probs[~is_bg].max(dim=-1)\n",
    "plt.hist(vals.numpy(), color='blue', bins=100, density=False);\n",
    "plt.xlabel('Predicted Probability');\n",
    "plt.ylabel('Count');"
   ]
  },
  {
   "cell_type": "markdown",
   "id": "030155dc-9232-4e68-8d46-c795cabe1b73",
   "metadata": {
    "tags": []
   },
   "source": [
    "### For all boxes assigned to non-background, what is the histogram of the probability of the correct class?"
   ]
  },
  {
   "cell_type": "code",
   "execution_count": 92,
   "id": "858c73ef-5054-41eb-ae5f-c514ec2a4433",
   "metadata": {},
   "outputs": [
    {
     "data": {
      "image/png": "[encoded data removed]",
      "text/plain": [
       "<Figure size 600x400 with 1 Axes>"
      ]
     },
     "metadata": {
      "needs_background": "light"
     },
     "output_type": "display_data"
    }
   ],
   "source": [
    "plt.hist(corr_probs[~is_bg].numpy(), color='blue', bins=100, density=False);\n",
    "plt.xlabel('Predicted Probability');\n",
    "plt.ylabel('Count');"
   ]
  },
  {
   "cell_type": "markdown",
   "id": "87730118-d3e2-4af3-90af-e3044d1fbe9e",
   "metadata": {
    "tags": []
   },
   "source": [
    "### For all boxes assigned to background, what is the histogram of the probability of the most likely class?"
   ]
  },
  {
   "cell_type": "code",
   "execution_count": 93,
   "id": "9f1ecd36-b69e-4caf-9b37-fde2bba32496",
   "metadata": {},
   "outputs": [
    {
     "data": {
      "image/png": "[encoded data removed]",
      "text/plain": [
       "<Figure size 600x400 with 1 Axes>"
      ]
     },
     "metadata": {
      "needs_background": "light"
     },
     "output_type": "display_data"
    }
   ],
   "source": [
    "vals, idx = all_probs[is_bg].max(dim=-1)\n",
    "plt.hist(vals.numpy(), color='blue', bins=100, density=False);\n",
    "plt.xlabel('Predicted Probability');\n",
    "plt.ylabel('Count');"
   ]
  },
  {
   "cell_type": "markdown",
   "id": "497ee424-a3b9-493f-a869-057b361d4e24",
   "metadata": {
    "tags": []
   },
   "source": [
    "### For all boxes assigned to background, what is the histogram of the probability of the correct class?"
   ]
  },
  {
   "cell_type": "code",
   "execution_count": 94,
   "id": "3e5f582c-973a-4ab8-847c-4b039ac6841e",
   "metadata": {},
   "outputs": [
    {
     "data": {
      "image/png": "[encoded data removed]",
      "text/plain": [
       "<Figure size 600x400 with 1 Axes>"
      ]
     },
     "metadata": {
      "needs_background": "light"
     },
     "output_type": "display_data"
    }
   ],
   "source": [
    "vals, idx = all_probs[is_bg].max(dim=-1)\n",
    "plt.hist(corr_probs[is_bg].numpy(), color='blue', bins=100, density=False);\n",
    "plt.xlabel('Predicted Probability');\n",
    "plt.ylabel('Count');"
   ]
  },
  {
   "cell_type": "code",
   "execution_count": null,
   "id": "3bbf4ce1-42c2-4a49-93f3-6d86c6014747",
   "metadata": {},
   "outputs": [],
   "source": []
  }
 ],
 "metadata": {
  "kernelspec": {
   "display_name": "Python (anaconda3-os_mmdet)",
   "language": "python",
   "name": "conda-env-anaconda3-os_mmdet-py"
  },
  "language_info": {
   "codemirror_mode": {
    "name": "ipython",
    "version": 3
   },
   "file_extension": ".py",
   "mimetype": "text/x-python",
   "name": "python",
   "nbconvert_exporter": "python",
   "pygments_lexer": "ipython3",
   "version": "3.7.10"
  }
 },
 "nbformat": 4,
 "nbformat_minor": 5
}
